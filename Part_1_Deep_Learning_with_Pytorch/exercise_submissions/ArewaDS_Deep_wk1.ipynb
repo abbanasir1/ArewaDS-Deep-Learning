{
  "nbformat": 4,
  "nbformat_minor": 0,
  "metadata": {
    "colab": {
      "provenance": []
    },
    "kernelspec": {
      "name": "python3",
      "display_name": "Python 3"
    },
    "language_info": {
      "name": "python"
    }
  },
  "cells": [
    {
      "cell_type": "markdown",
      "source": [
        "**Arewa Data Science Academy**\n",
        "\n",
        "**Deep Learning Cohort1.0**\n",
        "\n",
        "Name: Abba Nasir Muazu\n",
        "\n",
        "Email: abbanasir@gmail.com\n",
        "\n",
        "Title: Week 1 Solution"
      ],
      "metadata": {
        "id": "TS5syebnpeND"
      }
    },
    {
      "cell_type": "markdown",
      "source": [
        "**Exercises Solution**"
      ],
      "metadata": {
        "id": "-_0XZB-bqd-w"
      }
    },
    {
      "cell_type": "code",
      "execution_count": 1,
      "metadata": {
        "id": "9p-0xynPFu2t"
      },
      "outputs": [],
      "source": [
        "import torch"
      ]
    },
    {
      "cell_type": "code",
      "source": [
        "random_tensor_A = torch.rand(3, 7)\n",
        "random_tensor_A"
      ],
      "metadata": {
        "colab": {
          "base_uri": "https://localhost:8080/"
        },
        "id": "lnHD9u8UOoKR",
        "outputId": "8af4dd01-2f6e-4c7f-f333-6fc19df5c600"
      },
      "execution_count": 15,
      "outputs": [
        {
          "output_type": "execute_result",
          "data": {
            "text/plain": [
              "tensor([[0.2675, 0.7051, 0.4969, 0.3176, 0.5077, 0.7735, 0.3021],\n",
              "        [0.9847, 0.3359, 0.5843, 0.1949, 0.7525, 0.4699, 0.1569],\n",
              "        [0.7617, 0.0090, 0.6502, 0.8501, 0.6402, 0.9372, 0.2868]])"
            ]
          },
          "metadata": {},
          "execution_count": 15
        }
      ]
    },
    {
      "cell_type": "code",
      "source": [
        "random_tensor_B = torch.rand(1, 7)\n",
        "random_tensor_B"
      ],
      "metadata": {
        "colab": {
          "base_uri": "https://localhost:8080/"
        },
        "id": "BkRCdwKjPPCT",
        "outputId": "eaedd6a7-fcb3-4ead-bc55-226f1ac78608"
      },
      "execution_count": 5,
      "outputs": [
        {
          "output_type": "execute_result",
          "data": {
            "text/plain": [
              "tensor([[0.7497, 0.5188, 0.0600, 0.1345, 0.3453, 0.4575, 0.1212]])"
            ]
          },
          "metadata": {},
          "execution_count": 5
        }
      ]
    },
    {
      "cell_type": "code",
      "source": [
        "print(random_tensor_A)\n",
        "print(random_tensor_B)"
      ],
      "metadata": {
        "colab": {
          "base_uri": "https://localhost:8080/"
        },
        "id": "Fdla7psbPws5",
        "outputId": "c614dbf4-a904-4e87-d603-2c3ff81536d9"
      },
      "execution_count": 16,
      "outputs": [
        {
          "output_type": "stream",
          "name": "stdout",
          "text": [
            "tensor([[0.2675, 0.7051, 0.4969, 0.3176, 0.5077, 0.7735, 0.3021],\n",
            "        [0.9847, 0.3359, 0.5843, 0.1949, 0.7525, 0.4699, 0.1569],\n",
            "        [0.7617, 0.0090, 0.6502, 0.8501, 0.6402, 0.9372, 0.2868]])\n",
            "tensor([[0.7497, 0.5188, 0.0600, 0.1345, 0.3453, 0.4575, 0.1212]])\n"
          ]
        }
      ]
    },
    {
      "cell_type": "code",
      "source": [
        "print(random_tensor_A)\n",
        "print(random_tensor_B.T)"
      ],
      "metadata": {
        "colab": {
          "base_uri": "https://localhost:8080/"
        },
        "id": "NqTT9J7GQbcT",
        "outputId": "61644b59-e6c6-4e37-e982-01d52d0546f7"
      },
      "execution_count": 17,
      "outputs": [
        {
          "output_type": "stream",
          "name": "stdout",
          "text": [
            "tensor([[0.2675, 0.7051, 0.4969, 0.3176, 0.5077, 0.7735, 0.3021],\n",
            "        [0.9847, 0.3359, 0.5843, 0.1949, 0.7525, 0.4699, 0.1569],\n",
            "        [0.7617, 0.0090, 0.6502, 0.8501, 0.6402, 0.9372, 0.2868]])\n",
            "tensor([[0.7497],\n",
            "        [0.5188],\n",
            "        [0.0600],\n",
            "        [0.1345],\n",
            "        [0.3453],\n",
            "        [0.4575],\n",
            "        [0.1212]])\n"
          ]
        }
      ]
    },
    {
      "cell_type": "code",
      "source": [
        "torch.mm(random_tensor_A, random_tensor_B.T)"
      ],
      "metadata": {
        "colab": {
          "base_uri": "https://localhost:8080/"
        },
        "id": "eEVdSeJKSEPy",
        "outputId": "bab939bd-2468-4cc5-df26-a51fa8aa2304"
      },
      "execution_count": 18,
      "outputs": [
        {
          "output_type": "execute_result",
          "data": {
            "text/plain": [
              "tensor([[1.2047],\n",
              "        [1.4676],\n",
              "        [1.4136]])"
            ]
          },
          "metadata": {},
          "execution_count": 18
        }
      ]
    },
    {
      "cell_type": "code",
      "source": [
        "RANDOM_SEED=0\n",
        "torch.manual_seed(seed=RANDOM_SEED)\n",
        "random_tensor_C = torch.rand(7, 7)\n",
        "random_tensor_C"
      ],
      "metadata": {
        "colab": {
          "base_uri": "https://localhost:8080/"
        },
        "id": "NBgm8VH1ShqF",
        "outputId": "7d43394a-15f1-41a2-efa5-59cb6feb89d7"
      },
      "execution_count": 31,
      "outputs": [
        {
          "output_type": "execute_result",
          "data": {
            "text/plain": [
              "tensor([[0.4963, 0.7682, 0.0885, 0.1320, 0.3074, 0.6341, 0.4901],\n",
              "        [0.8964, 0.4556, 0.6323, 0.3489, 0.4017, 0.0223, 0.1689],\n",
              "        [0.2939, 0.5185, 0.6977, 0.8000, 0.1610, 0.2823, 0.6816],\n",
              "        [0.9152, 0.3971, 0.8742, 0.4194, 0.5529, 0.9527, 0.0362],\n",
              "        [0.1852, 0.3734, 0.3051, 0.9320, 0.1759, 0.2698, 0.1507],\n",
              "        [0.0317, 0.2081, 0.9298, 0.7231, 0.7423, 0.5263, 0.2437],\n",
              "        [0.5846, 0.0332, 0.1387, 0.2422, 0.8155, 0.7932, 0.2783]])"
            ]
          },
          "metadata": {},
          "execution_count": 31
        }
      ]
    },
    {
      "cell_type": "code",
      "source": [
        "RANDOM_SEED=0\n",
        "torch.manual_seed(seed=RANDOM_SEED)\n",
        "random_tensor_D = torch.rand(1, 7)\n",
        "random_tensor_D"
      ],
      "metadata": {
        "colab": {
          "base_uri": "https://localhost:8080/"
        },
        "id": "MzczqCmuT0Zv",
        "outputId": "bf644b1f-8a6b-4d9f-c424-caaef3ee31a6"
      },
      "execution_count": 32,
      "outputs": [
        {
          "output_type": "execute_result",
          "data": {
            "text/plain": [
              "tensor([[0.4963, 0.7682, 0.0885, 0.1320, 0.3074, 0.6341, 0.4901]])"
            ]
          },
          "metadata": {},
          "execution_count": 32
        }
      ]
    },
    {
      "cell_type": "code",
      "source": [
        "print(random_tensor_C)\n",
        "print(random_tensor_D.T)"
      ],
      "metadata": {
        "colab": {
          "base_uri": "https://localhost:8080/"
        },
        "id": "JfMQgq0KUt_b",
        "outputId": "241a6f03-daff-475f-9737-702cb86ad730"
      },
      "execution_count": 33,
      "outputs": [
        {
          "output_type": "stream",
          "name": "stdout",
          "text": [
            "tensor([[0.4963, 0.7682, 0.0885, 0.1320, 0.3074, 0.6341, 0.4901],\n",
            "        [0.8964, 0.4556, 0.6323, 0.3489, 0.4017, 0.0223, 0.1689],\n",
            "        [0.2939, 0.5185, 0.6977, 0.8000, 0.1610, 0.2823, 0.6816],\n",
            "        [0.9152, 0.3971, 0.8742, 0.4194, 0.5529, 0.9527, 0.0362],\n",
            "        [0.1852, 0.3734, 0.3051, 0.9320, 0.1759, 0.2698, 0.1507],\n",
            "        [0.0317, 0.2081, 0.9298, 0.7231, 0.7423, 0.5263, 0.2437],\n",
            "        [0.5846, 0.0332, 0.1387, 0.2422, 0.8155, 0.7932, 0.2783]])\n",
            "tensor([[0.4963],\n",
            "        [0.7682],\n",
            "        [0.0885],\n",
            "        [0.1320],\n",
            "        [0.3074],\n",
            "        [0.6341],\n",
            "        [0.4901]])\n"
          ]
        }
      ]
    },
    {
      "cell_type": "code",
      "source": [
        "torch.mm(random_tensor_C, random_tensor_D.T)"
      ],
      "metadata": {
        "colab": {
          "base_uri": "https://localhost:8080/"
        },
        "id": "-eoVSAb-VWxW",
        "outputId": "c7e8a6ba-8af5-4bd9-94ea-be55434a23a3"
      },
      "execution_count": 34,
      "outputs": [
        {
          "output_type": "execute_result",
          "data": {
            "text/plain": [
              "tensor([[1.5985],\n",
              "        [1.1173],\n",
              "        [1.2741],\n",
              "        [1.6838],\n",
              "        [0.8279],\n",
              "        [1.0347],\n",
              "        [1.2498]])"
            ]
          },
          "metadata": {},
          "execution_count": 34
        }
      ]
    },
    {
      "cell_type": "code",
      "source": [
        "torch.manual_seed(1234)\n",
        "random_tensor_E = torch.rand(2, 3)\n",
        "random_tensor_E\n"
      ],
      "metadata": {
        "colab": {
          "base_uri": "https://localhost:8080/"
        },
        "id": "h-AkDyJiWjF6",
        "outputId": "a32136a6-31c4-4c70-f094-b97094ae0350"
      },
      "execution_count": 35,
      "outputs": [
        {
          "output_type": "execute_result",
          "data": {
            "text/plain": [
              "tensor([[0.0290, 0.4019, 0.2598],\n",
              "        [0.3666, 0.0583, 0.7006]])"
            ]
          },
          "metadata": {},
          "execution_count": 35
        }
      ]
    },
    {
      "cell_type": "code",
      "source": [
        "torch.manual_seed(1234)\n",
        "random_tensor_F = torch.rand(2, 3)\n",
        "random_tensor_F"
      ],
      "metadata": {
        "colab": {
          "base_uri": "https://localhost:8080/"
        },
        "id": "y_GsCY5AZu9x",
        "outputId": "67768659-abb9-4bf0-ab09-31978dd7ca39"
      },
      "execution_count": 36,
      "outputs": [
        {
          "output_type": "execute_result",
          "data": {
            "text/plain": [
              "tensor([[0.0290, 0.4019, 0.2598],\n",
              "        [0.3666, 0.0583, 0.7006]])"
            ]
          },
          "metadata": {},
          "execution_count": 36
        }
      ]
    },
    {
      "cell_type": "code",
      "source": [
        "print(random_tensor_E)\n",
        "print(random_tensor_F.T)"
      ],
      "metadata": {
        "colab": {
          "base_uri": "https://localhost:8080/"
        },
        "id": "Pz5qccSXaMUS",
        "outputId": "d9d66e5d-9661-4199-d7f3-b1c6924934b4"
      },
      "execution_count": 39,
      "outputs": [
        {
          "output_type": "stream",
          "name": "stdout",
          "text": [
            "tensor([[0.0290, 0.4019, 0.2598],\n",
            "        [0.3666, 0.0583, 0.7006]])\n",
            "tensor([[0.0290, 0.3666],\n",
            "        [0.4019, 0.0583],\n",
            "        [0.2598, 0.7006]])\n"
          ]
        }
      ]
    },
    {
      "cell_type": "code",
      "source": [
        "torch.mm(random_tensor_E, random_tensor_F.T)"
      ],
      "metadata": {
        "colab": {
          "base_uri": "https://localhost:8080/"
        },
        "id": "Kb8OIpB3adXj",
        "outputId": "e3f32fa4-9af3-472b-bec5-758d28379ecd"
      },
      "execution_count": 40,
      "outputs": [
        {
          "output_type": "execute_result",
          "data": {
            "text/plain": [
              "tensor([[0.2299, 0.2161],\n",
              "        [0.2161, 0.6287]])"
            ]
          },
          "metadata": {},
          "execution_count": 40
        }
      ]
    },
    {
      "cell_type": "code",
      "source": [
        "x =torch.mm(random_tensor_E, random_tensor_F.T)\n",
        "x"
      ],
      "metadata": {
        "colab": {
          "base_uri": "https://localhost:8080/"
        },
        "id": "iAY6ShG9ckYf",
        "outputId": "c638dc17-f022-483d-e3b5-e924bc97c1ac"
      },
      "execution_count": 42,
      "outputs": [
        {
          "output_type": "execute_result",
          "data": {
            "text/plain": [
              "tensor([[0.2299, 0.2161],\n",
              "        [0.2161, 0.6287]])"
            ]
          },
          "metadata": {},
          "execution_count": 42
        }
      ]
    },
    {
      "cell_type": "code",
      "source": [
        "torch.max(x), torch.min(x)"
      ],
      "metadata": {
        "colab": {
          "base_uri": "https://localhost:8080/"
        },
        "id": "h4rWNYMqh5oS",
        "outputId": "6da900d2-21a9-486d-e467-27c4d88abddd"
      },
      "execution_count": 43,
      "outputs": [
        {
          "output_type": "execute_result",
          "data": {
            "text/plain": [
              "(tensor(0.6287), tensor(0.2161))"
            ]
          },
          "metadata": {},
          "execution_count": 43
        }
      ]
    },
    {
      "cell_type": "code",
      "source": [
        "torch.argmax(x), torch.argmin(x)"
      ],
      "metadata": {
        "colab": {
          "base_uri": "https://localhost:8080/"
        },
        "id": "tH2-vAZ3iJlj",
        "outputId": "5ef7caa4-0ba0-4d5c-bc47-fb5e72c76f60"
      },
      "execution_count": 44,
      "outputs": [
        {
          "output_type": "execute_result",
          "data": {
            "text/plain": [
              "(tensor(3), tensor(1))"
            ]
          },
          "metadata": {},
          "execution_count": 44
        }
      ]
    },
    {
      "cell_type": "code",
      "source": [
        "random_tensor_G = torch.rand(1, 1, 1, 10)\n",
        "random_tensor_G"
      ],
      "metadata": {
        "colab": {
          "base_uri": "https://localhost:8080/"
        },
        "id": "ql11pIZsjMAO",
        "outputId": "ba5b3b55-70cb-4603-9c70-092706520238"
      },
      "execution_count": 45,
      "outputs": [
        {
          "output_type": "execute_result",
          "data": {
            "text/plain": [
              "tensor([[[[0.0518, 0.4681, 0.6738, 0.3315, 0.7837, 0.5631, 0.7749, 0.8208,\n",
              "           0.2793, 0.6817]]]])"
            ]
          },
          "metadata": {},
          "execution_count": 45
        }
      ]
    },
    {
      "cell_type": "code",
      "source": [
        "random_tensor_H = torch.rand()"
      ],
      "metadata": {
        "id": "DJjVpuGckDem"
      },
      "execution_count": null,
      "outputs": []
    }
  ]
}